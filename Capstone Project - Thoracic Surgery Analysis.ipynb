{
 "cells": [
  {
   "cell_type": "markdown",
   "metadata": {},
   "source": [
    "# Thoracic Surgery Life Expectancy\n",
    "---\n",
    "\n",
    "<p>Lung cancer is the leading cause of cancer death and the second most diagnosed cancer in both men and women in the United States. After increasing for decades, lung cancer rates are decreasing nationally, as fewer people smoke cigarettes.</p>\n",
    "\n",
    "<p>The American Cancer Society's projected that for 2019 lung cancer in the United States, there are:\n",
    "<ul>\n",
    "<li>Around 1,762,450 new cancer cases\n",
    "<li>Around 606,880 cancer deaths to occur\n",
    "</ul>\n",
    "</p>\n",
    "\n",
    "<p>Over the past decade of data, the cancer incidence rate (2006‐2015) was stable in women and declined by approximately 2% per year in men, whereas the cancer death rate (2007‐2016) declined annually by 1.4% and 1.8%, respectively.</p>\n",
    "\n",
    "### Abstract\n",
    "---\n",
    "\n",
    "<p>The data is dedicated to classification problem related to the post-operative life expectancy in the lung cancer patients: class 1 - death within one year after surgery, class 2 - survival.</p>\n",
    "\n",
    "### Data Set Information\n",
    "---\n",
    "\n",
    "<p>The data was collected retrospectively at Wroclaw Thoracic Surgery Centre for patients who underwent major lung resections for primary lung cancer in the years 2007-2011. The Centre is associated with the Department of Thoracic Surgery of the Medical University of Wroclaw and Lower-Silesian Centre for Pulmonary Diseases, Poland, while the research database constitutes a part of the National Lung Cancer Registry, administered by the Institute of Tuberculosis and Pulmonary Diseases in Warsaw, Poland.</p>\n",
    "\n",
    "<p>The sample data set includes 470 rows of patient’s data with 16 attributes/features as the columns. The death_1yr attribute column can determine if a given patient lived or died.  A \"false\" value indicates that the patient lived 1 year post surgery, while a \"true\" value indicates the patient died within 1 year of the surgery.</p>\n",
    "\n",
    "\n",
    "\n",
    "### Attribute Information\n",
    "---\n",
    "\n",
    "|   Attribute  |   Name|  Description  |\n",
    "|:--------------|:--------------|:--------------|\n",
    "| DGN |   **Diagnosis**  | Diagnosis - specific combination of ICD-10 codes for primary and secondary as well multiple tumours if any |\n",
    "| PRE4 |   **FVC**  | Forced vital capacity - FVC (numeric) - Amount of air which can be forcibly exhaled from the lungs after taking the deepest breath possible |\n",
    "| PRE5 |   **FEV1**  | Volume that has been exhaled at the end of the first second of forced expiration - FEV1 (numeric) |\n",
    "| PRE6 |   **Zubrod_Scale**  | Performance status - Zubrod scale (PRZ2,PRZ1,PRZ0) - Good or normal activity (0) to Poor or requires assistance (2) |\n",
    "| PRE7 |   **Pain**  | Pain before surgery (T = 1, F = 0)  |\n",
    "| PRE8 |   **Haemoptysis**  | Haemoptysis or Coughing up blood, before surgery (T = 1, F = 0) |\n",
    "| PRE9 |   **Dyspnoea**  | Dyspnoea or Difficulty or labored breathing, before surgery (T = 1, F = 0)  |\n",
    "| PRE10\t|   **Cough**  | Symptoms of Coughing, before surgery (T = 1, F = 0)   |\n",
    "| PRE11\t|   **Weakness**  | Weakness, before surgery (T = 1, F = 0)  |\n",
    "| PRE14\t|   **Tumor_Size**  |  T in clinical TNM - size of the original tumour, from OC11 (smallest) to OC14 (largest) (OC11,OC14,OC12,OC13) -  1 (smallest) to 4 (largest) |\n",
    "| PRE17\t|   **Diabetes**  | Type 2 Diabetes Mellitus (T = 1, F = 0)   |\n",
    "| PRE19\t|   **MI_6mo**  | Myocardial infarction (Heart Attack), up to 6 months prior(T = 1, F = 0)   |\n",
    "| PRE25\t|   **PAD**  | Peripheral Arterial Diseases (T = 1, F = 0)   |\n",
    "| PRE30\t|   **Smoker**  | Patient Smoked (T = 1, F = 0)   |\n",
    "| PRE32 |   **Asthmatic**  | Patient has Asthma (T = 1, F = 0)   |\n",
    "| AGE |   **Age**  | Age at Surgery   |\n",
    "| Risk1Y |   **Death_1yr**  | 1 year survival period - (T) value if died (T = 1, F = 0)    |"
   ]
  },
  {
   "cell_type": "code",
   "execution_count": 7,
   "metadata": {},
   "outputs": [
    {
     "data": {
      "text/html": [
       "<script>\n",
       "code_show=true;\n",
       "function code_toggle() {\n",
       "if (code_show){\n",
       "$('div.input').hide();\n",
       "} else {\n",
       "$('div.input').show();\n",
       "}\n",
       "code_show = !code_show\n",
       "}\n",
       "$( document ).ready(code_toggle);\n",
       "</script>\n",
       "The code for this notebook is hidden for easier reading.\n",
       "To toggle it on/off, please click <a href=\"javascript:code_toggle()\">here</a>."
      ],
      "text/plain": [
       "<IPython.core.display.HTML object>"
      ]
     },
     "execution_count": 7,
     "metadata": {},
     "output_type": "execute_result"
    }
   ],
   "source": [
    "from IPython.display import HTML\n",
    "\n",
    "HTML('''<script>\n",
    "code_show=true;\n",
    "function code_toggle() {\n",
    "if (code_show){\n",
    "$('div.input').hide();\n",
    "} else {\n",
    "$('div.input').show();\n",
    "}\n",
    "code_show = !code_show\n",
    "}\n",
    "$( document ).ready(code_toggle);\n",
    "</script>\n",
    "The code for this notebook is hidden for easier reading.\n",
    "To toggle it on/off, please click <a href=\"javascript:code_toggle()\">here</a>.''')\n"
   ]
  },
  {
   "cell_type": "code",
   "execution_count": 27,
   "metadata": {},
   "outputs": [],
   "source": [
    "%matplotlib inline\n",
    "\n",
    "import pandas as pd\n",
    "import numpy as np\n",
    "import matplotlib.pyplot as plt\n",
    "import seaborn as sns\n",
    "\n",
    "sns.set_style(\"whitegrid\")"
   ]
  },
  {
   "cell_type": "markdown",
   "metadata": {},
   "source": [
    "#### Data File Conversion and Processing ####\n",
    "\n",
    "The [UCI Machine Learning Repository](https://archive.ics.uci.edu/ml/datasets/Thoracic+Surgery+Data) data set had the data file in ARFF format \"ThoraricSurgery.ARFF\". This file was converted into CSV format \"ThoraricSurgery_Converted.csv\" for easier loading into Pandas Dataframe."
   ]
  },
  {
   "cell_type": "code",
   "execution_count": 28,
   "metadata": {},
   "outputs": [
    {
     "name": "stdout",
     "output_type": "stream",
     "text": [
      "<class 'pandas.core.frame.DataFrame'>\n",
      "RangeIndex: 470 entries, 0 to 469\n",
      "Data columns (total 18 columns):\n",
      "id         470 non-null int64\n",
      "DGN        470 non-null object\n",
      "PRE4       470 non-null float64\n",
      "PRE5       470 non-null float64\n",
      "PRE6       470 non-null object\n",
      "PRE7       470 non-null object\n",
      "PRE8       470 non-null object\n",
      "PRE9       470 non-null object\n",
      "PRE10      470 non-null object\n",
      "PRE11      470 non-null object\n",
      "PRE14      470 non-null object\n",
      "PRE17      470 non-null object\n",
      "PRE19      470 non-null object\n",
      "PRE25      470 non-null object\n",
      "PRE30      470 non-null object\n",
      "PRE32      470 non-null object\n",
      "AGE        470 non-null int64\n",
      "Risk1Yr    470 non-null object\n",
      "dtypes: float64(2), int64(2), object(14)\n",
      "memory usage: 66.2+ KB\n"
     ]
    },
    {
     "data": {
      "text/plain": [
       "(470, 18)"
      ]
     },
     "execution_count": 28,
     "metadata": {},
     "output_type": "execute_result"
    }
   ],
   "source": [
    "df = pd.read_csv('ThoraricSurgery_Converted.csv')\n",
    "df.info()\n",
    "df.shape"
   ]
  },
  {
   "cell_type": "markdown",
   "metadata": {},
   "source": [
    "**Data Set Information:** There are 470 rows of patient data and 18 columns describing the attributes of the patient."
   ]
  },
  {
   "cell_type": "code",
   "execution_count": 29,
   "metadata": {
    "scrolled": false
   },
   "outputs": [
    {
     "data": {
      "text/html": [
       "<div>\n",
       "<style scoped>\n",
       "    .dataframe tbody tr th:only-of-type {\n",
       "        vertical-align: middle;\n",
       "    }\n",
       "\n",
       "    .dataframe tbody tr th {\n",
       "        vertical-align: top;\n",
       "    }\n",
       "\n",
       "    .dataframe thead th {\n",
       "        text-align: right;\n",
       "    }\n",
       "</style>\n",
       "<table border=\"1\" class=\"dataframe\">\n",
       "  <thead>\n",
       "    <tr style=\"text-align: right;\">\n",
       "      <th></th>\n",
       "      <th>id</th>\n",
       "      <th>DGN</th>\n",
       "      <th>PRE4</th>\n",
       "      <th>PRE5</th>\n",
       "      <th>PRE6</th>\n",
       "      <th>PRE7</th>\n",
       "      <th>PRE8</th>\n",
       "      <th>PRE9</th>\n",
       "      <th>PRE10</th>\n",
       "      <th>PRE11</th>\n",
       "      <th>PRE14</th>\n",
       "      <th>PRE17</th>\n",
       "      <th>PRE19</th>\n",
       "      <th>PRE25</th>\n",
       "      <th>PRE30</th>\n",
       "      <th>PRE32</th>\n",
       "      <th>AGE</th>\n",
       "      <th>Risk1Yr</th>\n",
       "    </tr>\n",
       "  </thead>\n",
       "  <tbody>\n",
       "    <tr>\n",
       "      <th>0</th>\n",
       "      <td>1</td>\n",
       "      <td>DGN2</td>\n",
       "      <td>2.88</td>\n",
       "      <td>2.16</td>\n",
       "      <td>PRZ1</td>\n",
       "      <td>F</td>\n",
       "      <td>F</td>\n",
       "      <td>F</td>\n",
       "      <td>T</td>\n",
       "      <td>T</td>\n",
       "      <td>OC14</td>\n",
       "      <td>F</td>\n",
       "      <td>F</td>\n",
       "      <td>F</td>\n",
       "      <td>T</td>\n",
       "      <td>F</td>\n",
       "      <td>60</td>\n",
       "      <td>F</td>\n",
       "    </tr>\n",
       "    <tr>\n",
       "      <th>1</th>\n",
       "      <td>2</td>\n",
       "      <td>DGN3</td>\n",
       "      <td>3.40</td>\n",
       "      <td>1.88</td>\n",
       "      <td>PRZ0</td>\n",
       "      <td>F</td>\n",
       "      <td>F</td>\n",
       "      <td>F</td>\n",
       "      <td>F</td>\n",
       "      <td>F</td>\n",
       "      <td>OC12</td>\n",
       "      <td>F</td>\n",
       "      <td>F</td>\n",
       "      <td>F</td>\n",
       "      <td>T</td>\n",
       "      <td>F</td>\n",
       "      <td>51</td>\n",
       "      <td>F</td>\n",
       "    </tr>\n",
       "    <tr>\n",
       "      <th>2</th>\n",
       "      <td>3</td>\n",
       "      <td>DGN3</td>\n",
       "      <td>2.76</td>\n",
       "      <td>2.08</td>\n",
       "      <td>PRZ1</td>\n",
       "      <td>F</td>\n",
       "      <td>F</td>\n",
       "      <td>F</td>\n",
       "      <td>T</td>\n",
       "      <td>F</td>\n",
       "      <td>OC11</td>\n",
       "      <td>F</td>\n",
       "      <td>F</td>\n",
       "      <td>F</td>\n",
       "      <td>T</td>\n",
       "      <td>F</td>\n",
       "      <td>59</td>\n",
       "      <td>F</td>\n",
       "    </tr>\n",
       "    <tr>\n",
       "      <th>3</th>\n",
       "      <td>4</td>\n",
       "      <td>DGN3</td>\n",
       "      <td>3.68</td>\n",
       "      <td>3.04</td>\n",
       "      <td>PRZ0</td>\n",
       "      <td>F</td>\n",
       "      <td>F</td>\n",
       "      <td>F</td>\n",
       "      <td>F</td>\n",
       "      <td>F</td>\n",
       "      <td>OC11</td>\n",
       "      <td>F</td>\n",
       "      <td>F</td>\n",
       "      <td>F</td>\n",
       "      <td>F</td>\n",
       "      <td>F</td>\n",
       "      <td>54</td>\n",
       "      <td>F</td>\n",
       "    </tr>\n",
       "    <tr>\n",
       "      <th>4</th>\n",
       "      <td>5</td>\n",
       "      <td>DGN3</td>\n",
       "      <td>2.44</td>\n",
       "      <td>0.96</td>\n",
       "      <td>PRZ2</td>\n",
       "      <td>F</td>\n",
       "      <td>T</td>\n",
       "      <td>F</td>\n",
       "      <td>T</td>\n",
       "      <td>T</td>\n",
       "      <td>OC11</td>\n",
       "      <td>F</td>\n",
       "      <td>F</td>\n",
       "      <td>F</td>\n",
       "      <td>T</td>\n",
       "      <td>F</td>\n",
       "      <td>73</td>\n",
       "      <td>T</td>\n",
       "    </tr>\n",
       "  </tbody>\n",
       "</table>\n",
       "</div>"
      ],
      "text/plain": [
       "   id   DGN  PRE4  PRE5  PRE6 PRE7 PRE8 PRE9 PRE10 PRE11 PRE14 PRE17 PRE19  \\\n",
       "0   1  DGN2  2.88  2.16  PRZ1    F    F    F     T     T  OC14     F     F   \n",
       "1   2  DGN3  3.40  1.88  PRZ0    F    F    F     F     F  OC12     F     F   \n",
       "2   3  DGN3  2.76  2.08  PRZ1    F    F    F     T     F  OC11     F     F   \n",
       "3   4  DGN3  3.68  3.04  PRZ0    F    F    F     F     F  OC11     F     F   \n",
       "4   5  DGN3  2.44  0.96  PRZ2    F    T    F     T     T  OC11     F     F   \n",
       "\n",
       "  PRE25 PRE30 PRE32  AGE Risk1Yr  \n",
       "0     F     T     F   60       F  \n",
       "1     F     T     F   51       F  \n",
       "2     F     T     F   59       F  \n",
       "3     F     F     F   54       F  \n",
       "4     F     T     F   73       T  "
      ]
     },
     "execution_count": 29,
     "metadata": {},
     "output_type": "execute_result"
    }
   ],
   "source": [
    "df.head()"
   ]
  },
  {
   "cell_type": "markdown",
   "metadata": {},
   "source": [
    "**Data Manipulation:** \n",
    "- Let us convert the True/False values to 1 or 0.\n",
    "- Rename the columns to more meaningful names."
   ]
  },
  {
   "cell_type": "code",
   "execution_count": 30,
   "metadata": {},
   "outputs": [
    {
     "data": {
      "text/html": [
       "<div>\n",
       "<style scoped>\n",
       "    .dataframe tbody tr th:only-of-type {\n",
       "        vertical-align: middle;\n",
       "    }\n",
       "\n",
       "    .dataframe tbody tr th {\n",
       "        vertical-align: top;\n",
       "    }\n",
       "\n",
       "    .dataframe thead th {\n",
       "        text-align: right;\n",
       "    }\n",
       "</style>\n",
       "<table border=\"1\" class=\"dataframe\">\n",
       "  <thead>\n",
       "    <tr style=\"text-align: right;\">\n",
       "      <th></th>\n",
       "      <th>DGN</th>\n",
       "      <th>PRE4</th>\n",
       "      <th>PRE5</th>\n",
       "      <th>PRE6</th>\n",
       "      <th>PRE7</th>\n",
       "      <th>PRE8</th>\n",
       "      <th>PRE9</th>\n",
       "      <th>PRE10</th>\n",
       "      <th>PRE11</th>\n",
       "      <th>PRE14</th>\n",
       "      <th>PRE17</th>\n",
       "      <th>PRE19</th>\n",
       "      <th>PRE25</th>\n",
       "      <th>PRE30</th>\n",
       "      <th>PRE32</th>\n",
       "      <th>AGE</th>\n",
       "      <th>Risk1Yr</th>\n",
       "    </tr>\n",
       "  </thead>\n",
       "  <tbody>\n",
       "    <tr>\n",
       "      <th>0</th>\n",
       "      <td>2</td>\n",
       "      <td>2.88</td>\n",
       "      <td>2.16</td>\n",
       "      <td>1</td>\n",
       "      <td>0</td>\n",
       "      <td>0</td>\n",
       "      <td>0</td>\n",
       "      <td>1</td>\n",
       "      <td>1</td>\n",
       "      <td>4</td>\n",
       "      <td>0</td>\n",
       "      <td>0</td>\n",
       "      <td>0</td>\n",
       "      <td>1</td>\n",
       "      <td>0</td>\n",
       "      <td>60</td>\n",
       "      <td>0</td>\n",
       "    </tr>\n",
       "    <tr>\n",
       "      <th>1</th>\n",
       "      <td>3</td>\n",
       "      <td>3.40</td>\n",
       "      <td>1.88</td>\n",
       "      <td>0</td>\n",
       "      <td>0</td>\n",
       "      <td>0</td>\n",
       "      <td>0</td>\n",
       "      <td>0</td>\n",
       "      <td>0</td>\n",
       "      <td>2</td>\n",
       "      <td>0</td>\n",
       "      <td>0</td>\n",
       "      <td>0</td>\n",
       "      <td>1</td>\n",
       "      <td>0</td>\n",
       "      <td>51</td>\n",
       "      <td>0</td>\n",
       "    </tr>\n",
       "    <tr>\n",
       "      <th>2</th>\n",
       "      <td>3</td>\n",
       "      <td>2.76</td>\n",
       "      <td>2.08</td>\n",
       "      <td>1</td>\n",
       "      <td>0</td>\n",
       "      <td>0</td>\n",
       "      <td>0</td>\n",
       "      <td>1</td>\n",
       "      <td>0</td>\n",
       "      <td>1</td>\n",
       "      <td>0</td>\n",
       "      <td>0</td>\n",
       "      <td>0</td>\n",
       "      <td>1</td>\n",
       "      <td>0</td>\n",
       "      <td>59</td>\n",
       "      <td>0</td>\n",
       "    </tr>\n",
       "    <tr>\n",
       "      <th>3</th>\n",
       "      <td>3</td>\n",
       "      <td>3.68</td>\n",
       "      <td>3.04</td>\n",
       "      <td>0</td>\n",
       "      <td>0</td>\n",
       "      <td>0</td>\n",
       "      <td>0</td>\n",
       "      <td>0</td>\n",
       "      <td>0</td>\n",
       "      <td>1</td>\n",
       "      <td>0</td>\n",
       "      <td>0</td>\n",
       "      <td>0</td>\n",
       "      <td>0</td>\n",
       "      <td>0</td>\n",
       "      <td>54</td>\n",
       "      <td>0</td>\n",
       "    </tr>\n",
       "    <tr>\n",
       "      <th>4</th>\n",
       "      <td>3</td>\n",
       "      <td>2.44</td>\n",
       "      <td>0.96</td>\n",
       "      <td>2</td>\n",
       "      <td>0</td>\n",
       "      <td>1</td>\n",
       "      <td>0</td>\n",
       "      <td>1</td>\n",
       "      <td>1</td>\n",
       "      <td>1</td>\n",
       "      <td>0</td>\n",
       "      <td>0</td>\n",
       "      <td>0</td>\n",
       "      <td>1</td>\n",
       "      <td>0</td>\n",
       "      <td>73</td>\n",
       "      <td>1</td>\n",
       "    </tr>\n",
       "  </tbody>\n",
       "</table>\n",
       "</div>"
      ],
      "text/plain": [
       "   DGN  PRE4  PRE5  PRE6  PRE7  PRE8  PRE9  PRE10  PRE11  PRE14  PRE17  PRE19  \\\n",
       "0    2  2.88  2.16     1     0     0     0      1      1      4      0      0   \n",
       "1    3  3.40  1.88     0     0     0     0      0      0      2      0      0   \n",
       "2    3  2.76  2.08     1     0     0     0      1      0      1      0      0   \n",
       "3    3  3.68  3.04     0     0     0     0      0      0      1      0      0   \n",
       "4    3  2.44  0.96     2     0     1     0      1      1      1      0      0   \n",
       "\n",
       "   PRE25  PRE30  PRE32  AGE  Risk1Yr  \n",
       "0      0      1      0   60        0  \n",
       "1      0      1      0   51        0  \n",
       "2      0      1      0   59        0  \n",
       "3      0      0      0   54        0  \n",
       "4      0      1      0   73        1  "
      ]
     },
     "execution_count": 30,
     "metadata": {},
     "output_type": "execute_result"
    }
   ],
   "source": [
    "# Convert T or F string values into int values of 1 or 0\n",
    "df[['PRE7', 'PRE8', 'PRE9', 'PRE10', 'PRE11', 'PRE17', 'PRE19', 'PRE25', 'PRE30', 'PRE32', 'Risk1Yr']] = \\\n",
    "(df[['PRE7', 'PRE8', 'PRE9', 'PRE10', 'PRE11', 'PRE17', 'PRE19', 'PRE25', 'PRE30', 'PRE32', 'Risk1Yr']] == 'T').astype(int)\n",
    "\n",
    "# Change columns with string values to just the int values of those columns by taking the last chracters in the string\n",
    "df['DGN'] = df.DGN.str[-1:].astype(int)\n",
    "df['PRE6'] = df.PRE6.str[-1:].astype(int)\n",
    "df['PRE14'] = df.PRE14.str[-1:].astype(int)\n",
    "\n",
    "# Drop id column. Using index for id.\n",
    "df = df.drop(['id'], axis=1)\n",
    "\n",
    "df.head()"
   ]
  },
  {
   "cell_type": "code",
   "execution_count": 31,
   "metadata": {},
   "outputs": [
    {
     "data": {
      "text/html": [
       "<div>\n",
       "<style scoped>\n",
       "    .dataframe tbody tr th:only-of-type {\n",
       "        vertical-align: middle;\n",
       "    }\n",
       "\n",
       "    .dataframe tbody tr th {\n",
       "        vertical-align: top;\n",
       "    }\n",
       "\n",
       "    .dataframe thead th {\n",
       "        text-align: right;\n",
       "    }\n",
       "</style>\n",
       "<table border=\"1\" class=\"dataframe\">\n",
       "  <thead>\n",
       "    <tr style=\"text-align: right;\">\n",
       "      <th></th>\n",
       "      <th>Diagnosis</th>\n",
       "      <th>Forced_Capacity</th>\n",
       "      <th>Forced_Expiration</th>\n",
       "      <th>Zubrod_Scale</th>\n",
       "      <th>Pain</th>\n",
       "      <th>Haemoptysis</th>\n",
       "      <th>Dyspnoea</th>\n",
       "      <th>Cough</th>\n",
       "      <th>Weakness</th>\n",
       "      <th>Tumor_Size</th>\n",
       "      <th>Diabetes</th>\n",
       "      <th>MI_6mo</th>\n",
       "      <th>PAD</th>\n",
       "      <th>Smoker</th>\n",
       "      <th>Asthmatic</th>\n",
       "      <th>Age</th>\n",
       "      <th>Death_1yr</th>\n",
       "    </tr>\n",
       "  </thead>\n",
       "  <tbody>\n",
       "    <tr>\n",
       "      <th>0</th>\n",
       "      <td>2</td>\n",
       "      <td>2.88</td>\n",
       "      <td>2.16</td>\n",
       "      <td>1</td>\n",
       "      <td>0</td>\n",
       "      <td>0</td>\n",
       "      <td>0</td>\n",
       "      <td>1</td>\n",
       "      <td>1</td>\n",
       "      <td>4</td>\n",
       "      <td>0</td>\n",
       "      <td>0</td>\n",
       "      <td>0</td>\n",
       "      <td>1</td>\n",
       "      <td>0</td>\n",
       "      <td>60</td>\n",
       "      <td>0</td>\n",
       "    </tr>\n",
       "    <tr>\n",
       "      <th>1</th>\n",
       "      <td>3</td>\n",
       "      <td>3.40</td>\n",
       "      <td>1.88</td>\n",
       "      <td>0</td>\n",
       "      <td>0</td>\n",
       "      <td>0</td>\n",
       "      <td>0</td>\n",
       "      <td>0</td>\n",
       "      <td>0</td>\n",
       "      <td>2</td>\n",
       "      <td>0</td>\n",
       "      <td>0</td>\n",
       "      <td>0</td>\n",
       "      <td>1</td>\n",
       "      <td>0</td>\n",
       "      <td>51</td>\n",
       "      <td>0</td>\n",
       "    </tr>\n",
       "    <tr>\n",
       "      <th>2</th>\n",
       "      <td>3</td>\n",
       "      <td>2.76</td>\n",
       "      <td>2.08</td>\n",
       "      <td>1</td>\n",
       "      <td>0</td>\n",
       "      <td>0</td>\n",
       "      <td>0</td>\n",
       "      <td>1</td>\n",
       "      <td>0</td>\n",
       "      <td>1</td>\n",
       "      <td>0</td>\n",
       "      <td>0</td>\n",
       "      <td>0</td>\n",
       "      <td>1</td>\n",
       "      <td>0</td>\n",
       "      <td>59</td>\n",
       "      <td>0</td>\n",
       "    </tr>\n",
       "    <tr>\n",
       "      <th>3</th>\n",
       "      <td>3</td>\n",
       "      <td>3.68</td>\n",
       "      <td>3.04</td>\n",
       "      <td>0</td>\n",
       "      <td>0</td>\n",
       "      <td>0</td>\n",
       "      <td>0</td>\n",
       "      <td>0</td>\n",
       "      <td>0</td>\n",
       "      <td>1</td>\n",
       "      <td>0</td>\n",
       "      <td>0</td>\n",
       "      <td>0</td>\n",
       "      <td>0</td>\n",
       "      <td>0</td>\n",
       "      <td>54</td>\n",
       "      <td>0</td>\n",
       "    </tr>\n",
       "    <tr>\n",
       "      <th>4</th>\n",
       "      <td>3</td>\n",
       "      <td>2.44</td>\n",
       "      <td>0.96</td>\n",
       "      <td>2</td>\n",
       "      <td>0</td>\n",
       "      <td>1</td>\n",
       "      <td>0</td>\n",
       "      <td>1</td>\n",
       "      <td>1</td>\n",
       "      <td>1</td>\n",
       "      <td>0</td>\n",
       "      <td>0</td>\n",
       "      <td>0</td>\n",
       "      <td>1</td>\n",
       "      <td>0</td>\n",
       "      <td>73</td>\n",
       "      <td>1</td>\n",
       "    </tr>\n",
       "  </tbody>\n",
       "</table>\n",
       "</div>"
      ],
      "text/plain": [
       "   Diagnosis  Forced_Capacity  Forced_Expiration  Zubrod_Scale  Pain  \\\n",
       "0          2             2.88               2.16             1     0   \n",
       "1          3             3.40               1.88             0     0   \n",
       "2          3             2.76               2.08             1     0   \n",
       "3          3             3.68               3.04             0     0   \n",
       "4          3             2.44               0.96             2     0   \n",
       "\n",
       "   Haemoptysis  Dyspnoea  Cough  Weakness  Tumor_Size  Diabetes  MI_6mo  PAD  \\\n",
       "0            0         0      1         1           4         0       0    0   \n",
       "1            0         0      0         0           2         0       0    0   \n",
       "2            0         0      1         0           1         0       0    0   \n",
       "3            0         0      0         0           1         0       0    0   \n",
       "4            1         0      1         1           1         0       0    0   \n",
       "\n",
       "   Smoker  Asthmatic  Age  Death_1yr  \n",
       "0       1          0   60          0  \n",
       "1       1          0   51          0  \n",
       "2       1          0   59          0  \n",
       "3       0          0   54          0  \n",
       "4       1          0   73          1  "
      ]
     },
     "execution_count": 31,
     "metadata": {},
     "output_type": "execute_result"
    }
   ],
   "source": [
    "# Rename column names\n",
    "# Backslash breaks the line of code allowing for the next line continuation.\n",
    "col_names = {'DGN': 'Diagnosis', 'PRE4': 'Forced_Capacity', 'PRE5': 'Forced_Expiration', 'PRE6': 'Zubrod_Scale', \\\n",
    "            'PRE7': 'Pain', 'PRE8': 'Haemoptysis', 'PRE9': 'Dyspnoea', 'PRE10': 'Cough', \\\n",
    "            'PRE11': 'Weakness', 'PRE14': 'Tumor_Size', 'PRE17': 'Diabetes', \\\n",
    "            'PRE19': 'MI_6mo', 'PRE25': 'PAD', 'PRE30': 'Smoker', 'PRE32': 'Asthmatic', \\\n",
    "            'AGE': 'Age', 'Risk1Yr': 'Death_1yr'}\n",
    "df = df.rename(index=str, columns=col_names)\n",
    "df.head()"
   ]
  },
  {
   "cell_type": "code",
   "execution_count": 32,
   "metadata": {},
   "outputs": [
    {
     "data": {
      "text/html": [
       "<div>\n",
       "<style scoped>\n",
       "    .dataframe tbody tr th:only-of-type {\n",
       "        vertical-align: middle;\n",
       "    }\n",
       "\n",
       "    .dataframe tbody tr th {\n",
       "        vertical-align: top;\n",
       "    }\n",
       "\n",
       "    .dataframe thead th {\n",
       "        text-align: right;\n",
       "    }\n",
       "</style>\n",
       "<table border=\"1\" class=\"dataframe\">\n",
       "  <thead>\n",
       "    <tr style=\"text-align: right;\">\n",
       "      <th></th>\n",
       "      <th>Diagnosis</th>\n",
       "      <th>Forced_Capacity</th>\n",
       "      <th>Forced_Expiration</th>\n",
       "      <th>Zubrod_Scale</th>\n",
       "      <th>Pain</th>\n",
       "      <th>Haemoptysis</th>\n",
       "      <th>Dyspnoea</th>\n",
       "      <th>Cough</th>\n",
       "      <th>Weakness</th>\n",
       "      <th>Tumor_Size</th>\n",
       "      <th>Diabetes</th>\n",
       "      <th>MI_6mo</th>\n",
       "      <th>PAD</th>\n",
       "      <th>Smoker</th>\n",
       "      <th>Asthmatic</th>\n",
       "      <th>Age</th>\n",
       "      <th>Death_1yr</th>\n",
       "    </tr>\n",
       "  </thead>\n",
       "  <tbody>\n",
       "    <tr>\n",
       "      <th>count</th>\n",
       "      <td>470.000000</td>\n",
       "      <td>470.000000</td>\n",
       "      <td>470.000000</td>\n",
       "      <td>470.000000</td>\n",
       "      <td>470.000000</td>\n",
       "      <td>470.000000</td>\n",
       "      <td>470.000000</td>\n",
       "      <td>470.000000</td>\n",
       "      <td>470.000000</td>\n",
       "      <td>470.000000</td>\n",
       "      <td>470.000000</td>\n",
       "      <td>470.000000</td>\n",
       "      <td>470.000000</td>\n",
       "      <td>470.000000</td>\n",
       "      <td>470.000000</td>\n",
       "      <td>470.000000</td>\n",
       "      <td>470.000000</td>\n",
       "    </tr>\n",
       "    <tr>\n",
       "      <th>mean</th>\n",
       "      <td>3.095745</td>\n",
       "      <td>3.281638</td>\n",
       "      <td>4.568702</td>\n",
       "      <td>0.780851</td>\n",
       "      <td>0.065957</td>\n",
       "      <td>0.144681</td>\n",
       "      <td>0.065957</td>\n",
       "      <td>0.687234</td>\n",
       "      <td>0.165957</td>\n",
       "      <td>1.736170</td>\n",
       "      <td>0.074468</td>\n",
       "      <td>0.004255</td>\n",
       "      <td>0.017021</td>\n",
       "      <td>0.821277</td>\n",
       "      <td>0.004255</td>\n",
       "      <td>62.534043</td>\n",
       "      <td>0.148936</td>\n",
       "    </tr>\n",
       "    <tr>\n",
       "      <th>std</th>\n",
       "      <td>0.722309</td>\n",
       "      <td>0.871395</td>\n",
       "      <td>11.767857</td>\n",
       "      <td>0.535375</td>\n",
       "      <td>0.248472</td>\n",
       "      <td>0.352154</td>\n",
       "      <td>0.248472</td>\n",
       "      <td>0.464114</td>\n",
       "      <td>0.372439</td>\n",
       "      <td>0.702243</td>\n",
       "      <td>0.262811</td>\n",
       "      <td>0.065163</td>\n",
       "      <td>0.129488</td>\n",
       "      <td>0.383529</td>\n",
       "      <td>0.065163</td>\n",
       "      <td>8.706902</td>\n",
       "      <td>0.356405</td>\n",
       "    </tr>\n",
       "    <tr>\n",
       "      <th>min</th>\n",
       "      <td>1.000000</td>\n",
       "      <td>1.440000</td>\n",
       "      <td>0.960000</td>\n",
       "      <td>0.000000</td>\n",
       "      <td>0.000000</td>\n",
       "      <td>0.000000</td>\n",
       "      <td>0.000000</td>\n",
       "      <td>0.000000</td>\n",
       "      <td>0.000000</td>\n",
       "      <td>1.000000</td>\n",
       "      <td>0.000000</td>\n",
       "      <td>0.000000</td>\n",
       "      <td>0.000000</td>\n",
       "      <td>0.000000</td>\n",
       "      <td>0.000000</td>\n",
       "      <td>21.000000</td>\n",
       "      <td>0.000000</td>\n",
       "    </tr>\n",
       "    <tr>\n",
       "      <th>25%</th>\n",
       "      <td>3.000000</td>\n",
       "      <td>2.600000</td>\n",
       "      <td>1.960000</td>\n",
       "      <td>0.000000</td>\n",
       "      <td>0.000000</td>\n",
       "      <td>0.000000</td>\n",
       "      <td>0.000000</td>\n",
       "      <td>0.000000</td>\n",
       "      <td>0.000000</td>\n",
       "      <td>1.000000</td>\n",
       "      <td>0.000000</td>\n",
       "      <td>0.000000</td>\n",
       "      <td>0.000000</td>\n",
       "      <td>1.000000</td>\n",
       "      <td>0.000000</td>\n",
       "      <td>57.000000</td>\n",
       "      <td>0.000000</td>\n",
       "    </tr>\n",
       "    <tr>\n",
       "      <th>50%</th>\n",
       "      <td>3.000000</td>\n",
       "      <td>3.160000</td>\n",
       "      <td>2.400000</td>\n",
       "      <td>1.000000</td>\n",
       "      <td>0.000000</td>\n",
       "      <td>0.000000</td>\n",
       "      <td>0.000000</td>\n",
       "      <td>1.000000</td>\n",
       "      <td>0.000000</td>\n",
       "      <td>2.000000</td>\n",
       "      <td>0.000000</td>\n",
       "      <td>0.000000</td>\n",
       "      <td>0.000000</td>\n",
       "      <td>1.000000</td>\n",
       "      <td>0.000000</td>\n",
       "      <td>62.000000</td>\n",
       "      <td>0.000000</td>\n",
       "    </tr>\n",
       "    <tr>\n",
       "      <th>75%</th>\n",
       "      <td>3.000000</td>\n",
       "      <td>3.807500</td>\n",
       "      <td>3.080000</td>\n",
       "      <td>1.000000</td>\n",
       "      <td>0.000000</td>\n",
       "      <td>0.000000</td>\n",
       "      <td>0.000000</td>\n",
       "      <td>1.000000</td>\n",
       "      <td>0.000000</td>\n",
       "      <td>2.000000</td>\n",
       "      <td>0.000000</td>\n",
       "      <td>0.000000</td>\n",
       "      <td>0.000000</td>\n",
       "      <td>1.000000</td>\n",
       "      <td>0.000000</td>\n",
       "      <td>69.000000</td>\n",
       "      <td>0.000000</td>\n",
       "    </tr>\n",
       "    <tr>\n",
       "      <th>max</th>\n",
       "      <td>8.000000</td>\n",
       "      <td>6.300000</td>\n",
       "      <td>86.300000</td>\n",
       "      <td>2.000000</td>\n",
       "      <td>1.000000</td>\n",
       "      <td>1.000000</td>\n",
       "      <td>1.000000</td>\n",
       "      <td>1.000000</td>\n",
       "      <td>1.000000</td>\n",
       "      <td>4.000000</td>\n",
       "      <td>1.000000</td>\n",
       "      <td>1.000000</td>\n",
       "      <td>1.000000</td>\n",
       "      <td>1.000000</td>\n",
       "      <td>1.000000</td>\n",
       "      <td>87.000000</td>\n",
       "      <td>1.000000</td>\n",
       "    </tr>\n",
       "  </tbody>\n",
       "</table>\n",
       "</div>"
      ],
      "text/plain": [
       "        Diagnosis  Forced_Capacity  Forced_Expiration  Zubrod_Scale  \\\n",
       "count  470.000000       470.000000         470.000000    470.000000   \n",
       "mean     3.095745         3.281638           4.568702      0.780851   \n",
       "std      0.722309         0.871395          11.767857      0.535375   \n",
       "min      1.000000         1.440000           0.960000      0.000000   \n",
       "25%      3.000000         2.600000           1.960000      0.000000   \n",
       "50%      3.000000         3.160000           2.400000      1.000000   \n",
       "75%      3.000000         3.807500           3.080000      1.000000   \n",
       "max      8.000000         6.300000          86.300000      2.000000   \n",
       "\n",
       "             Pain  Haemoptysis    Dyspnoea       Cough    Weakness  \\\n",
       "count  470.000000   470.000000  470.000000  470.000000  470.000000   \n",
       "mean     0.065957     0.144681    0.065957    0.687234    0.165957   \n",
       "std      0.248472     0.352154    0.248472    0.464114    0.372439   \n",
       "min      0.000000     0.000000    0.000000    0.000000    0.000000   \n",
       "25%      0.000000     0.000000    0.000000    0.000000    0.000000   \n",
       "50%      0.000000     0.000000    0.000000    1.000000    0.000000   \n",
       "75%      0.000000     0.000000    0.000000    1.000000    0.000000   \n",
       "max      1.000000     1.000000    1.000000    1.000000    1.000000   \n",
       "\n",
       "       Tumor_Size    Diabetes      MI_6mo         PAD      Smoker   Asthmatic  \\\n",
       "count  470.000000  470.000000  470.000000  470.000000  470.000000  470.000000   \n",
       "mean     1.736170    0.074468    0.004255    0.017021    0.821277    0.004255   \n",
       "std      0.702243    0.262811    0.065163    0.129488    0.383529    0.065163   \n",
       "min      1.000000    0.000000    0.000000    0.000000    0.000000    0.000000   \n",
       "25%      1.000000    0.000000    0.000000    0.000000    1.000000    0.000000   \n",
       "50%      2.000000    0.000000    0.000000    0.000000    1.000000    0.000000   \n",
       "75%      2.000000    0.000000    0.000000    0.000000    1.000000    0.000000   \n",
       "max      4.000000    1.000000    1.000000    1.000000    1.000000    1.000000   \n",
       "\n",
       "              Age   Death_1yr  \n",
       "count  470.000000  470.000000  \n",
       "mean    62.534043    0.148936  \n",
       "std      8.706902    0.356405  \n",
       "min     21.000000    0.000000  \n",
       "25%     57.000000    0.000000  \n",
       "50%     62.000000    0.000000  \n",
       "75%     69.000000    0.000000  \n",
       "max     87.000000    1.000000  "
      ]
     },
     "execution_count": 32,
     "metadata": {},
     "output_type": "execute_result"
    }
   ],
   "source": [
    "df.describe()"
   ]
  },
  {
   "cell_type": "markdown",
   "metadata": {},
   "source": [
    "### Based on the above data, here are some of the observations: ###\n",
    "\n",
    "We have 16 features consisting of both categorical as well as the numerical features. Response variable is 'Death_1yr' of the patients which can 1 and 0 (representing 'Death' and 'Live' respectively). \n",
    "\n",
    "#### Categorical Features #### \n",
    "Pain, Haemoptysis, Dyspnoea, Cough, Weakness, Diabetes, Heart Attack in 6 mos, PAD, Smoking, Asthma, Death in 1 year\n",
    "#### Numerical Features #### \n",
    "Forced Capacity, Forced Expiration, Age"
   ]
  },
  {
   "cell_type": "markdown",
   "metadata": {},
   "source": [
    "### Let us check for the Outliers for the Numerical Data Features ###"
   ]
  },
  {
   "cell_type": "code",
   "execution_count": 17,
   "metadata": {},
   "outputs": [
    {
     "data": {
      "image/png": "[encoded data removed]",
      "text/plain": [
       "<Figure size 432x288 with 3 Axes>"
      ]
     },
     "metadata": {},
     "output_type": "display_data"
    }
   ],
   "source": [
    "# Check Outliers - Age, Forced Capacity and Forced Expiration in the Data\n",
    "\n",
    "fig, axs = plt.subplots(1,3)\n",
    "\n",
    "axs[0].boxplot(df.Age)\n",
    "axs[0].set_title('Age')\n",
    "\n",
    "axs[1].boxplot(df.Forced_Expiration)\n",
    "axs[1].set_title('Forced Expiration')\n",
    "\n",
    "axs[2].boxplot(df.Forced_Capacity)\n",
    "axs[2].set_title(\"Forced Capacity\")\n",
    "plt.show()"
   ]
  },
  {
   "cell_type": "code",
   "execution_count": 33,
   "metadata": {},
   "outputs": [
    {
     "data": {
      "image/png": "[encoded data removed]",
      "text/plain": [
       "<Figure size 432x288 with 1 Axes>"
      ]
     },
     "metadata": {},
     "output_type": "display_data"
    }
   ],
   "source": [
    "plt.plot(df.Forced_Capacity, df.Forced_Expiration, linestyle='none', marker='.')\n",
    "plt.xlabel('Forced Capacity')\n",
    "plt.ylabel('Forced Expiration')\n",
    "plt.show()"
   ]
  },
  {
   "cell_type": "code",
   "execution_count": 34,
   "metadata": {},
   "outputs": [
    {
     "data": {
      "image/png": "[encoded data removed]",
      "text/plain": [
       "<Figure size 432x288 with 1 Axes>"
      ]
     },
     "metadata": {},
     "output_type": "display_data"
    }
   ],
   "source": [
    "plt.plot(df.Age, df.Forced_Capacity, linestyle='none', marker='.')\n",
    "plt.xlabel('Age')\n",
    "plt.ylabel('Forced Capacity')\n",
    "plt.show()"
   ]
  },
  {
   "cell_type": "code",
   "execution_count": 35,
   "metadata": {},
   "outputs": [
    {
     "data": {
      "image/png": "[encoded data removed]",
      "text/plain": [
       "<Figure size 432x288 with 1 Axes>"
      ]
     },
     "metadata": {},
     "output_type": "display_data"
    }
   ],
   "source": [
    "plt.plot(df.Age, df.Forced_Expiration, linestyle='none', marker='.')\n",
    "plt.xlabel('Age')\n",
    "plt.ylabel('Forced Expiration')\n",
    "plt.show()"
   ]
  },
  {
   "cell_type": "markdown",
   "metadata": {},
   "source": [
    "#### Remove the outliers in Age and Forced Expiration ####"
   ]
  },
  {
   "cell_type": "code",
   "execution_count": 36,
   "metadata": {},
   "outputs": [],
   "source": [
    "# Outliers for Age and Forced_Expiration columns should be removed. \n",
    "# 15 rows from high Forced_Expiration. 1 row from low Age.\n",
    "df = df[df.Age > 30]\n",
    "df = df[df.Forced_Expiration < 8]\n"
   ]
  },
  {
   "cell_type": "code",
   "execution_count": 37,
   "metadata": {},
   "outputs": [
    {
     "data": {
      "text/plain": [
       "454"
      ]
     },
     "execution_count": 37,
     "metadata": {},
     "output_type": "execute_result"
    }
   ],
   "source": [
    "# Original data set contained 470\n",
    "len(df)"
   ]
  },
  {
   "cell_type": "markdown",
   "metadata": {},
   "source": [
    "#### Write the clean data into a new CSV file ####"
   ]
  },
  {
   "cell_type": "code",
   "execution_count": 38,
   "metadata": {},
   "outputs": [],
   "source": [
    "# Write the Changesd to new CSV file.\n",
    "df.to_csv('ThoracicSurgery_Cleaned.csv')"
   ]
  },
  {
   "cell_type": "markdown",
   "metadata": {},
   "source": [
    "### Statistical Analysis ###\n",
    "---\n",
    "\n",
    "We will create 2 groups of data: \n",
    "\n",
    "- Patients that are live after 1 year of Surgery (**live group**)\n",
    "- Patients who passed away within 1 year of Surgery (**death group**)"
   ]
  },
  {
   "cell_type": "code",
   "execution_count": 39,
   "metadata": {},
   "outputs": [],
   "source": [
    "# Patient Statistics for 2 groups - live after 1 yr and death after 1 yr of surgery\n",
    "\n",
    "live = df[df['Death_1yr'] == 0]\n",
    "death = df[df['Death_1yr'] == 1]"
   ]
  },
  {
   "cell_type": "markdown",
   "metadata": {},
   "source": [
    "#### Let us check the mean of the patient attributes in these 2 groups ####"
   ]
  },
  {
   "cell_type": "code",
   "execution_count": 40,
   "metadata": {
    "scrolled": false
   },
   "outputs": [
    {
     "name": "stdout",
     "output_type": "stream",
     "text": [
      "Death: 69, Live: 385, Total: 454\n",
      "1 year death: 15.20% out of 454 patients\n"
     ]
    },
    {
     "data": {
      "text/html": [
       "<div>\n",
       "<style scoped>\n",
       "    .dataframe tbody tr th:only-of-type {\n",
       "        vertical-align: middle;\n",
       "    }\n",
       "\n",
       "    .dataframe tbody tr th {\n",
       "        vertical-align: top;\n",
       "    }\n",
       "\n",
       "    .dataframe thead th {\n",
       "        text-align: right;\n",
       "    }\n",
       "</style>\n",
       "<table border=\"1\" class=\"dataframe\">\n",
       "  <thead>\n",
       "    <tr style=\"text-align: right;\">\n",
       "      <th></th>\n",
       "      <th>Live 1 Year Mean</th>\n",
       "      <th>Death 1 Year Mean</th>\n",
       "      <th>Total Mean</th>\n",
       "    </tr>\n",
       "    <tr>\n",
       "      <th>Attribute</th>\n",
       "      <th></th>\n",
       "      <th></th>\n",
       "      <th></th>\n",
       "    </tr>\n",
       "  </thead>\n",
       "  <tbody>\n",
       "    <tr>\n",
       "      <th>Forced_Capacity</th>\n",
       "      <td>3.304597</td>\n",
       "      <td>3.195072</td>\n",
       "      <td>3.287952</td>\n",
       "    </tr>\n",
       "    <tr>\n",
       "      <th>Forced_Expiration</th>\n",
       "      <td>2.540805</td>\n",
       "      <td>2.383188</td>\n",
       "      <td>2.516850</td>\n",
       "    </tr>\n",
       "    <tr>\n",
       "      <th>Zubrod_Scale</th>\n",
       "      <td>0.774026</td>\n",
       "      <td>0.913043</td>\n",
       "      <td>0.795154</td>\n",
       "    </tr>\n",
       "    <tr>\n",
       "      <th>Pain</th>\n",
       "      <td>0.051948</td>\n",
       "      <td>0.101449</td>\n",
       "      <td>0.059471</td>\n",
       "    </tr>\n",
       "    <tr>\n",
       "      <th>Haemoptysis</th>\n",
       "      <td>0.124675</td>\n",
       "      <td>0.202899</td>\n",
       "      <td>0.136564</td>\n",
       "    </tr>\n",
       "    <tr>\n",
       "      <th>Dyspnoea</th>\n",
       "      <td>0.044156</td>\n",
       "      <td>0.115942</td>\n",
       "      <td>0.055066</td>\n",
       "    </tr>\n",
       "    <tr>\n",
       "      <th>Cough</th>\n",
       "      <td>0.677922</td>\n",
       "      <td>0.797101</td>\n",
       "      <td>0.696035</td>\n",
       "    </tr>\n",
       "    <tr>\n",
       "      <th>Weakness</th>\n",
       "      <td>0.158442</td>\n",
       "      <td>0.246377</td>\n",
       "      <td>0.171806</td>\n",
       "    </tr>\n",
       "    <tr>\n",
       "      <th>Tumor_Size</th>\n",
       "      <td>1.683117</td>\n",
       "      <td>2.014493</td>\n",
       "      <td>1.733480</td>\n",
       "    </tr>\n",
       "    <tr>\n",
       "      <th>Diabetes</th>\n",
       "      <td>0.062338</td>\n",
       "      <td>0.144928</td>\n",
       "      <td>0.074890</td>\n",
       "    </tr>\n",
       "    <tr>\n",
       "      <th>MI_6mo</th>\n",
       "      <td>0.005195</td>\n",
       "      <td>0.000000</td>\n",
       "      <td>0.004405</td>\n",
       "    </tr>\n",
       "    <tr>\n",
       "      <th>PAD</th>\n",
       "      <td>0.015584</td>\n",
       "      <td>0.028986</td>\n",
       "      <td>0.017621</td>\n",
       "    </tr>\n",
       "    <tr>\n",
       "      <th>Smoker</th>\n",
       "      <td>0.815584</td>\n",
       "      <td>0.898551</td>\n",
       "      <td>0.828194</td>\n",
       "    </tr>\n",
       "    <tr>\n",
       "      <th>Asthmatic</th>\n",
       "      <td>0.005195</td>\n",
       "      <td>0.000000</td>\n",
       "      <td>0.004405</td>\n",
       "    </tr>\n",
       "    <tr>\n",
       "      <th>Age</th>\n",
       "      <td>62.677922</td>\n",
       "      <td>63.333333</td>\n",
       "      <td>62.777533</td>\n",
       "    </tr>\n",
       "  </tbody>\n",
       "</table>\n",
       "</div>"
      ],
      "text/plain": [
       "                   Live 1 Year Mean  Death 1 Year Mean  Total Mean\n",
       "Attribute                                                         \n",
       "Forced_Capacity            3.304597           3.195072    3.287952\n",
       "Forced_Expiration          2.540805           2.383188    2.516850\n",
       "Zubrod_Scale               0.774026           0.913043    0.795154\n",
       "Pain                       0.051948           0.101449    0.059471\n",
       "Haemoptysis                0.124675           0.202899    0.136564\n",
       "Dyspnoea                   0.044156           0.115942    0.055066\n",
       "Cough                      0.677922           0.797101    0.696035\n",
       "Weakness                   0.158442           0.246377    0.171806\n",
       "Tumor_Size                 1.683117           2.014493    1.733480\n",
       "Diabetes                   0.062338           0.144928    0.074890\n",
       "MI_6mo                     0.005195           0.000000    0.004405\n",
       "PAD                        0.015584           0.028986    0.017621\n",
       "Smoker                     0.815584           0.898551    0.828194\n",
       "Asthmatic                  0.005195           0.000000    0.004405\n",
       "Age                       62.677922          63.333333   62.777533"
      ]
     },
     "execution_count": 40,
     "metadata": {},
     "output_type": "execute_result"
    }
   ],
   "source": [
    "attr = ['Forced_Capacity', 'Forced_Expiration', 'Zubrod_Scale', 'Pain', 'Haemoptysis', 'Dyspnoea', 'Cough', 'Weakness',\\\n",
    "        'Tumor_Size', 'Diabetes', 'MI_6mo', 'PAD', 'Smoker', 'Asthmatic', 'Age']\n",
    "\n",
    "l = [np.mean(live[a]) for a in attr]\n",
    "d = [np.mean(death[a]) for a in attr]\n",
    "f = [np.mean(df[a]) for a in attr]\n",
    "\n",
    "ld = pd.DataFrame(data={'Attribute': attr, 'Live 1 Year Mean': l, 'Death 1 Year Mean': d, 'Total Mean': f})\n",
    "ld = ld.set_index('Attribute')\n",
    "\n",
    "print('Death: {:d}, Live: {:d}, Total: {:d}'.format(len(death), len(live), len(df)))\n",
    "print(\"1 year death: {:.2f}% out of {:d} patients\".format(np.mean(df.Death_1yr)*100, len(df)))\n",
    "ld"
   ]
  },
  {
   "cell_type": "markdown",
   "metadata": {},
   "source": [
    "### How many patients died with in 1 year post-surgery?\n",
    "\n",
    "---\n",
    "\n",
    "Out of the 454 patients, 69 did not survive 1 year Post-Surgery, which is 15.20 % of the total sample size.\n",
    "\n",
    "Simply looking at the means of these two different patient groups, we notice that there are features with significant differences and others with minor differences. However, it is difficult to compare these features with each other, therefore doing a normalization of each value will help with easy comparision.\n",
    "\n",
    "We notice that the 2 sample groups are independent; i.e. the observations in **live group** are not affected by observations in **death group**, and vice versa.\n",
    "\n",
    "Let us test if the set of differences between sample means for these 2 groups is normally distributed. This will be true if each group is normal or if the sample sizes are large. (Based on the central limit theorem, sample sizes of 40 would probably be large enough).\n"
   ]
  },
  {
   "cell_type": "markdown",
   "metadata": {},
   "source": [
    "#### Calculate Mean Differences"
   ]
  },
  {
   "cell_type": "code",
   "execution_count": 41,
   "metadata": {},
   "outputs": [
    {
     "name": "stdout",
     "output_type": "stream",
     "text": [
      "[('Forced_Capacity', -3.3143201874818806), ('Forced_Expiration', -6.203418874077771), ('Zubrod_Scale', 17.960315144441193), ('Pain', 95.28985507246377), ('Haemoptysis', 62.74154589371982), ('Dyspnoea', 162.57459505541348), ('Cough', 17.58009883946915), ('Weakness', 55.50011879306249), ('Tumor_Size', 19.688226874217225), ('Diabetes', 132.48792270531402), ('MI_6mo', -100.0), ('PAD', 85.99033816425121), ('Smoker', 10.17262069602141), ('Asthmatic', -100.0), ('Age', 1.0456812122719108)]\n"
     ]
    }
   ],
   "source": [
    "# 'Forced_Capacity', 'Forced_Expiration', 'Zubrod_Scale', 'Pain', 'Haemoptysis', 'Dyspnoea', 'Cough', 'Weakness',\n",
    "# 'Tumor_Size', 'Diabetes', 'MI_6mo', 'PAD', 'Smoker', 'Asthmatic', 'Age']\n",
    "# l = [np.mean(live[a]) for a in attr]\n",
    "# d = [np.mean(death[a]) for a in attr]\n",
    "\n",
    "# Percentage mean difference of live vs death patients\n",
    "d = np.array(d)\n",
    "l = np.array(l)\n",
    "\n",
    "p_diff = (d-l)/l*100\n",
    "\n",
    "print(list(zip(attr, p_diff)))"
   ]
  },
  {
   "cell_type": "markdown",
   "metadata": {},
   "source": [
    "#### Plot Mean Differences\n"
   ]
  },
  {
   "cell_type": "code",
   "execution_count": 53,
   "metadata": {
    "scrolled": false
   },
   "outputs": [
    {
     "data": {
      "image/png": "[encoded data removed]",
      "text/plain": [
       "<Figure size 720x1008 with 2 Axes>"
      ]
     },
     "metadata": {},
     "output_type": "display_data"
    }
   ],
   "source": [
    "# Plot the mean differences\n",
    "\n",
    "fig, axes = plt.subplots(2,1,figsize=(10,14))\n",
    "\n",
    "axes[0].bar(attr, p_diff)\n",
    "axes[0].set_title('Mean Difference % between Death and Live within 1yr post surgery', fontsize=16)\n",
    "axes[0].set_xticks(attr)\n",
    "axes[0].set_xticklabels(attr, rotation=90)\n",
    "axes[0].set_ylabel('Percent', fontsize=14)\n",
    "\n",
    "# Count plot of true/false condition columns\n",
    "\n",
    "tf_col = ['Pain', 'Haemoptysis', 'Dyspnoea', 'Cough', 'Weakness', 'Diabetes', 'MI_6mo', 'PAD', 'Smoker', 'Asthmatic']\n",
    "tf_sum = [df[col].sum()/len(df) for col in tf_col]\n",
    "\n",
    "axes[1].bar(tf_col, tf_sum)\n",
    "axes[1].set_xticks(tf_col)\n",
    "axes[1].set_xticklabels(tf_col, rotation=90)\n",
    "axes[1].set_ylabel('Proportion of Total Patients', fontsize=14)\n",
    "axes[1].set_title('Proportion of Patient Conditions before Surgery', fontsize=16)\n",
    "\n",
    "plt.tight_layout()\n",
    "\n",
    "plt.show()\n"
   ]
  },
  {
   "cell_type": "markdown",
   "metadata": {},
   "source": [
    "### What are the differences for the 1 year death patients?\n",
    "---\n",
    "\n",
    "Based on the above visualizations, we can easily compare the attributes to determine features of significance.\n",
    "\n",
    "##### Mean Differences:#####\n",
    "\n",
    "The most significant attributes for those who died are **- *Dyspnoea*, *Diabetes Mellitus*, *Pain*, *PAD*, and *Haemoptysis* (in decreasing order)**, which indicates that those who died had these features strongly present. Whereas **- *Asthma* and *MI of 6 months** have negative 100% values, indicating that those who died were not asthmatic or MI. \n",
    "\n",
    "We consider total count numbers when comparing mean differences, because the lower count number will have larger fluctuations to small differences and hence may give skewed results. \n",
    "\n",
    "##### Total Count or Proportion:#####\n",
    "\n",
    "The total count of *Cough* and *Smoking* are most notable indicating these conditions are strongly correlated, but the mean differences are a small positive values indicating more representation in the dead patients. Looking at the proportion graph for notable features from the mean differences graph, most of the values are low in count. \n",
    "\n",
    "To best assess if these attributes' mean differences are of significance, a hypothesis test of whether the mean difference is significant will help narrow down the features of interest."
   ]
  },
  {
   "cell_type": "markdown",
   "metadata": {},
   "source": [
    "### Categorical Data (Diagnosis, Tumor Size, Zubrod Scale)\n",
    "---"
   ]
  },
  {
   "cell_type": "code",
   "execution_count": 56,
   "metadata": {
    "scrolled": false
   },
   "outputs": [
    {
     "data": {
      "image/png": "[encoded data removed]",
      "text/plain": [
       "<Figure size 720x1008 with 3 Axes>"
      ]
     },
     "metadata": {},
     "output_type": "display_data"
    }
   ],
   "source": [
    "# Count plots of Diagnosis, Tumor_Size, Performance with difference of live and death data\n",
    "\n",
    "fig, axes = plt.subplots(3,1,figsize=(10,14))\n",
    "\n",
    "sns.countplot(x='Diagnosis', hue='Death_1yr', data=df, palette='Reds_d', ax=axes[0]).set_title('Diagnosis', fontsize=16)\n",
    "sns.countplot(x='Tumor_Size', hue='Death_1yr', data=df, palette='Blues_d', ax=axes[1]).set_title('Tumor Size', fontsize=16)\n",
    "sns.countplot(x='Zubrod_Scale', hue='Death_1yr', data=df, palette='Greens_d', ax=axes[2]).set_title('Zubrod Scale', fontsize=16)\n",
    "\n",
    "plt.tight_layout()"
   ]
  },
  {
   "cell_type": "markdown",
   "metadata": {},
   "source": [
    "#### Analysis of live Vs. death patients groups for Diagnosis, Tumor Size, and Zubrod Scale\n",
    "\n",
    "For **Diagnosis** , the large majority of patients are in category 3. The other categories are relatively small while category 4, 2, and 5 should be considered for their counts in that order. The proportion of live to dead at a glance seems to be similar for the diagnosis categories except for 5, where the death count is higher than the live count, which indicates this diagnosis is more fatal than the others even with surgery.\n",
    "\n",
    "For **Tumor Size**, categories 1 and 2 are the majority. At a glance, the proportion of the dead to live generally increases with the tumor size ranging from 1 to 4, indicating the higher tumor size correlates to higher chance of death even with surgery. Category 4 tumor size is most even in its split between death and live patient data. Also looking at the dead to live mean difference graph, the dead had higher means indicating larger tumor sizes overall.\n",
    "\n",
    "For **Zubrod Scale**, categories are 1, 0, 2 in decreasing order of count. Zubrod Scale 0 category reveals low death count and good proportion to live data, which makes sense since on the Zubrod scale 0 is good and 2 is poor for mobility/ambulatory. Category 1 and 2 display similar proportion to live and dead patients, but with category 1 having a majority of the count. Referring to the dead to live mean difference graph, the dead had higher means indicating the dead on average had poorer performance with a higher Zubrod score than the live."
   ]
  },
  {
   "cell_type": "markdown",
   "metadata": {},
   "source": [
    "### Using Permutation Test for Hypothesis Tetsing ###\n",
    "\n",
    "<p>Permutation tests are a group of nonparametric statistics. Here we use a permutation test to test the null hypothesis that two different groups come from the same distribution. The notation and examples shown here are borrowed from Efron and Tibshirani’s An Introduction to the Bootstrap. Our specific problem is that we observe two groups of data</p>\n",
    "\n",
    "\\begin{eqnarray*}\n",
    "    F \\rightarrow \\mathbf{z} &= \\{ z_{1}, \\ldots, z_{n} \\}\\\\\n",
    "    G \\rightarrow \\mathbf{y} &= \\{ y_{1}, \\ldots, y_{m} \\}\n",
    "\\end{eqnarray*}\n",
    "\n",
    "and we are interested in testing the null hypothesis that\n",
    "\n",
    "H_{0}: F = G.\n"
   ]
  },
  {
   "cell_type": "markdown",
   "metadata": {},
   "source": [
    "### Mean Differences between Live and Death Patients\n",
    "\n",
    "---\n",
    "\n",
    "All the observations above highlighted the trends and patterns in the attributes. However, to **learn their significance**, a hypothesis test can be conducted to see if these trends are not fortuitous.\n",
    "\n",
    "> **Null Hypothesis:** The 1 year live and death patients have the similar distribution and mean. (Tested for each attribute.)\n",
    "  * **Test Statistic:** Mean difference between death and live patients.*Test statistic is a single number that can be computed from the observed data and from the data we have simulated from the null hypothesis”.*\n",
    "  * **Significance Level:** 0.05, *if we get a p-value >= 0.05, we can say that we are 95% confident that our null hypothesis is true. i.e (100 -(0.05 X 100)).*"
   ]
  },
  {
   "cell_type": "markdown",
   "metadata": {},
   "source": [
    "### Define Functions to perform Permuation Testing ###\n",
    "\n",
    "We will use three functions:\n",
    "\n",
    "- Generate a permuation sample\n",
    "- Generate multiple permutation replicates\n",
    "- Mean difference of 2 groups"
   ]
  },
  {
   "cell_type": "code",
   "execution_count": 58,
   "metadata": {},
   "outputs": [],
   "source": [
    "def permutation_sample(data1, data2):\n",
    "    #Generate a permutation sample from two data sets.\n",
    "   # Concatenate the data sets: data\n",
    "    data = np.concatenate((data1, data2))\n",
    "    \n",
    "    # Permute the concatenated array: permuted_data\n",
    "    permuted_data = np.random.permutation(data)\n",
    "    \n",
    "    # Split the permuted array into two: perm_sample_1, perm_sample_2\n",
    "    perm_sample_1 = permuted_data[:len(data1)]\n",
    "    perm_sample_2 = permuted_data[len(data1):]\n",
    "\n",
    "    return perm_sample_1, perm_sample_2\n",
    "\n",
    "def draw_perm_reps(data_1, data_2, func, size=1):\n",
    "    \"\"\"Generate multiple permutation replicates.\"\"\"\n",
    "    # Initialize array of replicates: perm_replicates\n",
    "    perm_replicates = np.empty(size)\n",
    "    \n",
    "    for i in range(size):\n",
    "        # Generate permutation sample\n",
    "        perm_sample_1, perm_sample_2 = permutation_sample(data_1, data_2)\n",
    "        \n",
    "        # Compute the test statistic\n",
    "        perm_replicates[i] = func(perm_sample_1, perm_sample_2)\n",
    "\n",
    "    return perm_replicates\n",
    "\n",
    "def diff_of_means(data_1, data_2):\n",
    "    \"\"\"Difference in means of two arrays.\"\"\"\n",
    "    diff = np.mean(data_1) - np.mean(data_2)\n",
    "    return diff"
   ]
  },
  {
   "cell_type": "code",
   "execution_count": 59,
   "metadata": {},
   "outputs": [
    {
     "name": "stdout",
     "output_type": "stream",
     "text": [
      "[('Forced_Capacity', 0.1717), ('Forced_Expiration', 0.0558), ('Zubrod_Scale', 0.0296), ('Pain', 0.102), ('Haemoptysis', 0.0665), ('Dyspnoea', 0.0224), ('Cough', 0.0289), ('Weakness', 0.0587), ('Tumor_Size', 0.0005), ('Diabetes', 0.0208), ('MI_6mo', 0.7111), ('PAD', 0.3528), ('Smoker', 0.0623), ('Asthmatic', 0.7138), ('Age', 0.2775)]\n"
     ]
    }
   ],
   "source": [
    "# Hypothesis testing with Permutations of data for each of these attributes\n",
    "attributes = ['Forced_Capacity', 'Forced_Expiration', 'Zubrod_Scale', 'Pain', 'Haemoptysis', 'Dyspnoea', 'Cough', 'Weakness',\\\n",
    "             'Tumor_Size', 'Diabetes', 'MI_6mo', 'PAD', 'Smoker', 'Asthmatic', 'Age']\n",
    "p_val = []\n",
    "\n",
    "for a in attributes:\n",
    "    empirical_diff_means = diff_of_means(death[a], live[a])\n",
    "    perm_replicates = draw_perm_reps(death[a], live[a], diff_of_means, size=10000)\n",
    "    \n",
    "    # Compute p-value: p\n",
    "    if empirical_diff_means > 0:\n",
    "        p = np.sum(perm_replicates >= empirical_diff_means) / len(perm_replicates)\n",
    "        p_val.append(p)\n",
    "    else:\n",
    "        p = np.sum(perm_replicates <= empirical_diff_means) / len(perm_replicates)\n",
    "        p_val.append(p)\n",
    "\n",
    "print(list(zip(attributes, p_val)))"
   ]
  },
  {
   "cell_type": "markdown",
   "metadata": {},
   "source": [
    "#### Results for Hypothesis Test\n",
    "\n",
    ">With significance level of **> 0.05**,\n",
    " * **Null Hypothesis is True:** Forced_Capacity, Forced_Expiration, Pain, Haemoptysis, Weakness, MI_6mo, PAD, Smoker, Asthmatic, Age\n",
    " * **Reject Null Hypothesis:** Zubrod_Scale, Dyspnoea, Cough, Tumor_Size, Diabetes\n",
    "\n",
    "The null hypothesis stated that the distributions and means of life and death patients were the same for the attributes tested. With the results above, the attributes of significance are those that rejected the null hypothesis. To highlight the trends for those that rejected the null hypothesis, the mean difference percentages are listed below.\n",
    "\n",
    "**Mean difference % for death in 1 year patients for attributes of significance:**\n",
    "* Zubrod_Scale = 17.96% \n",
    "* Dyspnoea = 162.57% \n",
    "* Cough = 17.58%\n",
    "* Tumor_Size = 19.69%\n",
    "* Diabetes = 132.49%"
   ]
  },
  {
   "cell_type": "markdown",
   "metadata": {},
   "source": [
    "### Numerical Data (Age, Forced Capacity, Forced Expiration)\n",
    "---\n",
    "\n",
    "The mean difference graph reveals little difference in Age while there is a small negative difference for the dead compared to the live. So this indicates the dead patients on average performed worse for lung capacity compared to the live patients.\n",
    "\n",
    "The plots below will further investigate the relationship between these three numerical data columns."
   ]
  },
  {
   "cell_type": "code",
   "execution_count": 60,
   "metadata": {},
   "outputs": [
    {
     "data": {
      "image/png": "[encoded data removed]",
      "text/plain": [
       "<Figure size 936x360 with 2 Axes>"
      ]
     },
     "metadata": {},
     "output_type": "display_data"
    }
   ],
   "source": [
    "# Scatter plot for Forced Capacity, Forced Expiration, Age columns\n",
    "\n",
    "fig, axes = plt.subplots(1,2,figsize=(13,5))\n",
    "axes[0].plot(df.Forced_Capacity, df.Forced_Expiration, linestyle='none', marker='.')\n",
    "\n",
    "axes[0].set_xlabel('Forced Capacity', fontsize=13)\n",
    "axes[0].set_ylabel('Forced Expiration', fontsize=13)\n",
    "axes[0].set_title('Forced Capacity vs Forced Expiration', fontsize=16)\n",
    "\n",
    "axes[1].plot(df.Age, df.Forced_Expiration, linestyle='none', marker='.', label='Forced_Expiration')\n",
    "axes[1].plot(df.Age, df.Forced_Capacity, linestyle='none', marker='.', label='Forced_Capacity')\n",
    "axes[1].set_xlabel('Age', fontsize=13)\n",
    "axes[1].set_ylabel('Forced Expiration, Forced Capacity', fontsize=13)\n",
    "axes[1].legend()\n",
    "axes[1].set_title('Age vs Forced Expiration, Forced Capacity', fontsize=16)\n",
    "\n",
    "plt.tight_layout()"
   ]
  },
  {
   "cell_type": "code",
   "execution_count": 61,
   "metadata": {},
   "outputs": [
    {
     "data": {
      "text/html": [
       "<div>\n",
       "<style scoped>\n",
       "    .dataframe tbody tr th:only-of-type {\n",
       "        vertical-align: middle;\n",
       "    }\n",
       "\n",
       "    .dataframe tbody tr th {\n",
       "        vertical-align: top;\n",
       "    }\n",
       "\n",
       "    .dataframe thead th {\n",
       "        text-align: right;\n",
       "    }\n",
       "</style>\n",
       "<table border=\"1\" class=\"dataframe\">\n",
       "  <thead>\n",
       "    <tr style=\"text-align: right;\">\n",
       "      <th></th>\n",
       "      <th>Forced_Capacity</th>\n",
       "      <th>Forced_Expiration</th>\n",
       "      <th>Age</th>\n",
       "    </tr>\n",
       "  </thead>\n",
       "  <tbody>\n",
       "    <tr>\n",
       "      <th>Forced_Capacity</th>\n",
       "      <td>1.000000</td>\n",
       "      <td>0.887545</td>\n",
       "      <td>-0.299430</td>\n",
       "    </tr>\n",
       "    <tr>\n",
       "      <th>Forced_Expiration</th>\n",
       "      <td>0.887545</td>\n",
       "      <td>1.000000</td>\n",
       "      <td>-0.309617</td>\n",
       "    </tr>\n",
       "    <tr>\n",
       "      <th>Age</th>\n",
       "      <td>-0.299430</td>\n",
       "      <td>-0.309617</td>\n",
       "      <td>1.000000</td>\n",
       "    </tr>\n",
       "  </tbody>\n",
       "</table>\n",
       "</div>"
      ],
      "text/plain": [
       "                   Forced_Capacity  Forced_Expiration       Age\n",
       "Forced_Capacity           1.000000           0.887545 -0.299430\n",
       "Forced_Expiration         0.887545           1.000000 -0.309617\n",
       "Age                      -0.299430          -0.309617  1.000000"
      ]
     },
     "execution_count": 61,
     "metadata": {},
     "output_type": "execute_result"
    },
    {
     "data": {
      "image/png": "[encoded data removed]",
      "text/plain": [
       "<Figure size 432x288 with 2 Axes>"
      ]
     },
     "metadata": {},
     "output_type": "display_data"
    }
   ],
   "source": [
    "# Drop unnecessary attibutes and rename the dataframe\n",
    "df2 = df.drop(labels = ['Diagnosis','Zubrod_Scale','Pain','Haemoptysis','Dyspnoea','Cough','Weakness','Tumor_Size', \\\n",
    "                        'Diabetes', 'MI_6mo','PAD','Smoker','Asthmatic','Death_1yr'], axis = 1)\n",
    "\n",
    "\n",
    "# Correlation Matrix & Heatmap\n",
    "\n",
    "corr = df2.corr()\n",
    "corr = (corr)\n",
    "sns.heatmap(corr, \n",
    "            xticklabels=corr.columns.values,\n",
    "            yticklabels=corr.columns.values)\n",
    "\n",
    "corr"
   ]
  },
  {
   "cell_type": "code",
   "execution_count": 62,
   "metadata": {},
   "outputs": [
    {
     "data": {
      "text/plain": [
       "0.8875452733829"
      ]
     },
     "execution_count": 62,
     "metadata": {},
     "output_type": "execute_result"
    }
   ],
   "source": [
    "# Correlation coefficients for Forced Capacity and Forced Expiration\n",
    "np.corrcoef(df.Forced_Capacity, df.Forced_Expiration)[0,1]"
   ]
  },
  {
   "cell_type": "code",
   "execution_count": 63,
   "metadata": {
    "scrolled": true
   },
   "outputs": [
    {
     "data": {
      "text/plain": [
       "-0.299429919660491"
      ]
     },
     "execution_count": 63,
     "metadata": {},
     "output_type": "execute_result"
    }
   ],
   "source": [
    "# Correlation coefficients for Age and Forced Capacity\n",
    "np.corrcoef(df.Age, df.Forced_Capacity)[0,1]"
   ]
  },
  {
   "cell_type": "code",
   "execution_count": 64,
   "metadata": {},
   "outputs": [
    {
     "data": {
      "text/plain": [
       "-0.3096166273079891"
      ]
     },
     "execution_count": 64,
     "metadata": {},
     "output_type": "execute_result"
    }
   ],
   "source": [
    "# Correlation coefficients for Age and Forced Expiration\n",
    "np.corrcoef(df.Age, df.Forced_Expiration)[0,1]"
   ]
  },
  {
   "cell_type": "markdown",
   "metadata": {},
   "source": [
    "#### Correlations of Forced Capacity, Forced Expiration, and Age\n",
    "\n",
    "From the scatter plot and the correlation graphs, we can see that there is a strong positive correlation between Forced Capacity and Forced Expiration, whereas Age has a slight negative trend in the graphs. \n",
    "\n",
    "The correlation coefficient calculated for Forced Capacity and Forced Expiration is *0.89*, which is very strong and the fact that the data points are grouped together to show a visible linear trend. On the other hand, Age's correlation with Forced Capacity and Forced Expiration are about *-0.3* for both, but the data points are more spread out. The mild negative trend for age against the other two features makes intuitive sense as it would be expected that as you get older, your lung capacity decreases."
   ]
  },
  {
   "cell_type": "markdown",
   "metadata": {},
   "source": [
    "### Further Exploratory Data Analysis - Empirical Cumulative Distribution Function ###\n",
    "---\n",
    "\n",
    "<p>We will perform additional EDA using the Empirical Cumulative Distribution Function (ECDF). The ECDF allows us to plot a feature of your data in order from least to greatest and see the whole feature as if is distributed across the data set.</p>"
   ]
  },
  {
   "cell_type": "code",
   "execution_count": 65,
   "metadata": {},
   "outputs": [],
   "source": [
    "# Empirical Cumulative Distribution Function\n",
    "def ecdf(data):\n",
    "    \"\"\"Compute ECDF for a one-dimensional array of measurements.\"\"\"    \n",
    "    n = len(data)    \n",
    "    x = np.sort(data)    \n",
    "    y = np.arange(1, n+1) / n    \n",
    "    return x, y"
   ]
  },
  {
   "cell_type": "code",
   "execution_count": 72,
   "metadata": {
    "scrolled": false
   },
   "outputs": [
    {
     "data": {
      "image/png": "[encoded data removed]",
      "text/plain": [
       "<Figure size 864x432 with 2 Axes>"
      ]
     },
     "metadata": {},
     "output_type": "display_data"
    }
   ],
   "source": [
    "# ECDF of Forced_Capacity, Forced_Expiration, Age\n",
    "x_fvc, y_fvc = ecdf(df.Forced_Capacity)\n",
    "x_fev1, y_fev1 = ecdf(df.Forced_Expiration)\n",
    "x_age, y_age = ecdf(df.Age)\n",
    "\n",
    "fig, axes = plt.subplots(1,2,figsize=(12,6))\n",
    "axes[0].plot(x_fvc, y_fvc, marker='.', linestyle='none', label='Forced_Capacity')\n",
    "axes[0].plot(x_fev1, y_fev1, marker='.', linestyle='none', label='Forced_Expiration')\n",
    "\n",
    "axes[0].set_xlabel('Numerical Value', fontsize=12)\n",
    "axes[0].set_ylabel('ECDF', fontsize=12)\n",
    "axes[0].legend(loc='upper left')\n",
    "axes[0].set_title('Forced Capacity & Forced Expiration', fontsize=14)\n",
    "\n",
    "axes[1].plot(x_age, y_age, marker='.', linestyle='none', label='Age')\n",
    "axes[1].set_xlabel('Years Old', fontsize=12)\n",
    "axes[1].set_ylabel('ECDF', fontsize=12)\n",
    "axes[1].legend(loc='upper left')\n",
    "axes[1].set_title('Age', fontsize=14)\n",
    "\n",
    "plt.tight_layout()"
   ]
  },
  {
   "cell_type": "markdown",
   "metadata": {},
   "source": [
    "#### Distribution of Numerical Data\n",
    "\n",
    "All numerical data display fairly normal distributions. Forced_Capacity and Forced_Expiration are comparable in their distribution with different means; Forced_Expiration with its mean at 2.53 and Forced_Capacity at 3.29. Age mean is at 63."
   ]
  },
  {
   "cell_type": "markdown",
   "metadata": {},
   "source": [
    "### Summary ###\n",
    "---\n",
    "\n",
    "* Out of the 454 patients, 69 died and 385 lived the 1 year period after surgery. So, 15.20% of patients died.\n",
    "\n",
    "* Several features were strongly present in patients who died: Dyspnoea, Diabetes Mellitus, Pain, PAD, and Haemoptysis (Top 5 in decreasing order).\n",
    "\n",
    "* Overall, most patients who received surgery smoked (80%) and presented with symptoms of coughing (70%), while the rest of the attributes presented under 20% of the total patients.\n",
    "\n",
    "* Majority of patients were categorized as diagnosis code 3. The proportion of live to dead is similar for the diagnosis codes. For tumor size, most of the patients are in category 1 and 2, and the data presents a trend of more proportion of dead as tumor size increases. For Zubrod score, the trend observed is more proportion of dead as Zubrod score increases, which means patient mobility decreases.\n",
    "\n",
    "* Hypothesis testing reveals attributes of significance: Zubrod Scale, Dyspnoea, Cough, Tumor Size, Diabetes Mellitus.\n",
    "\n",
    "* As Age increases, the Forced Capacity and Forced Expiration decrease with correlations of -0.30, respectively. Forced Capacity and Forced Expiration are highly correlated with a value of 0.89."
   ]
  },
  {
   "cell_type": "markdown",
   "metadata": {},
   "source": [
    "### Experimental Design ###\n",
    "---\n",
    "\n",
    "**Hypothesis:** Patients with Diabetes Mellitus and Dyspnoea are more likely to die within 1 year.\n",
    "\n",
    "**Null Hypothesis:** Patients with Diabetes Mellitus and Dyspnoea have no impact.\n",
    "\n",
    "**Sample:** 2000 patients will be randomly selected from the total population of patients with lung cancer in the United States. Prior to this experiment, Patient's consent is taken for anonymous data collection and adherence to participation guidelines in exchange for a nominal financial incentive. Patient's attributes (in other words, gender, age, ethnicity, lifestyle, zubrod score, cough, dyspnoea, diabetes etc) will dictate their sample group placement but otherwise won't be influenced by the experiment.\n",
    "\n",
    "**Treatment:** The sample will be equipartitioned into four cohorts (n=500 for the four sample groups) who will undergo Thoracic Surgery.\n",
    "\n",
    "- Patients who are have both diabetes and dyspnoea \n",
    "- Patients who are have diabetes \n",
    "- Patients who are have dyspnoea \n",
    "- Patients who are have neither of these \n"
   ]
  },
  {
   "cell_type": "markdown",
   "metadata": {},
   "source": [
    "### Rollout & Evaluation Plan ###\n",
    "---\n",
    "\n",
    "**Impact Window:**<br> \n",
    "\n",
    "The first year post-surgery.  \n",
    "\n",
    "**Data Collection Approach:**<br> \n",
    "\n",
    "Patients data will be collected from various healthcare provider sites for the experiment. These sites will already have electronic health record (EHR) systems implemented, to streamline data collection and will abide by HIPAA guidelines and Data Use agreements.   \n",
    "\n",
    "**Metrics:**<br>\n",
    "\n",
    "- Live Status (Dead or Alive) after 1 year of post surgery.\n",
    "\n",
    "**Success Criteria:**<br>\n",
    "-  If the significance levels > 0.05, then the Hypothesis that patients with Diabetes and Dyspnoea will die within a year can be rejected."
   ]
  },
  {
   "cell_type": "markdown",
   "metadata": {},
   "source": [
    "### References: ###\n",
    "---\n",
    "\n",
    "Cancer Statistics 2019: https://onlinelibrary.wiley.com/doi/full/10.3322/caac.21551\n",
    "\n",
    "Data Set: https://archive.ics.uci.edu/ml/datasets/Thoracic+Surgery+Data\n",
    "\n",
    "ARFF to CSV Conversion: https://pulipulichen.github.io/HTML5-BayesNet-Tools/arff2csv/\n",
    "\n",
    "How to hide code in Jupyter?: https://stackoverflow.com/questions/27934885/how-to-hide-code-from-cells-in-ipython-notebook-visualized-with-nbviewer\n",
    "\n",
    "Difference between Means Theory: https://stattrek.com/sampling/difference-in-means.aspx?Tutorial=AP\n",
    "\n",
    "Hypothesis Testing with Numpy: https://towardsdatascience.com/hypothesis-testing-with-numpy-271c185e8cf0\n",
    "\n",
    "Permutation Test: http://www2.stat.duke.edu/~ar182/rr/examples-gallery/PermutationTest.html\n",
    "\n",
    "Empirical Cumulative Distribution Function: https://towardsdatascience.com/what-why-and-how-to-read-empirical-cdf-123e2b922480"
   ]
  },
  {
   "cell_type": "code",
   "execution_count": null,
   "metadata": {},
   "outputs": [],
   "source": []
  }
 ],
 "metadata": {
  "kernelspec": {
   "display_name": "Python 3",
   "language": "python",
   "name": "python3"
  },
  "language_info": {
   "codemirror_mode": {
    "name": "ipython",
    "version": 3
   },
   "file_extension": ".py",
   "mimetype": "text/x-python",
   "name": "python",
   "nbconvert_exporter": "python",
   "pygments_lexer": "ipython3",
   "version": "3.7.3"
  }
 },
 "nbformat": 4,
 "nbformat_minor": 2
}
